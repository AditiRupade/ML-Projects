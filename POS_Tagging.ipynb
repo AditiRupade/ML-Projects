{
 "cells": [
  {
   "cell_type": "code",
   "execution_count": 1,
   "metadata": {},
   "outputs": [],
   "source": [
    "import nltk"
   ]
  },
  {
   "cell_type": "code",
   "execution_count": 2,
   "metadata": {},
   "outputs": [
    {
     "name": "stderr",
     "output_type": "stream",
     "text": [
      "[nltk_data] Error loading punkt: <urlopen error [Errno 11001]\n",
      "[nltk_data]     getaddrinfo failed>\n"
     ]
    },
    {
     "data": {
      "text/plain": [
       "False"
      ]
     },
     "execution_count": 2,
     "metadata": {},
     "output_type": "execute_result"
    }
   ],
   "source": [
    "nltk.download('punkt')"
   ]
  },
  {
   "cell_type": "code",
   "execution_count": 3,
   "metadata": {},
   "outputs": [
    {
     "name": "stderr",
     "output_type": "stream",
     "text": [
      "[nltk_data] Error loading averaged_perceptron_tagger: <urlopen error\n",
      "[nltk_data]     [Errno 11001] getaddrinfo failed>\n"
     ]
    },
    {
     "data": {
      "text/plain": [
       "False"
      ]
     },
     "execution_count": 3,
     "metadata": {},
     "output_type": "execute_result"
    }
   ],
   "source": [
    "nltk.download('averaged_perceptron_tagger')"
   ]
  },
  {
   "cell_type": "code",
   "execution_count": 4,
   "metadata": {},
   "outputs": [
    {
     "name": "stderr",
     "output_type": "stream",
     "text": [
      "[nltk_data] Error loading indian: <urlopen error [Errno 11001]\n",
      "[nltk_data]     getaddrinfo failed>\n"
     ]
    },
    {
     "data": {
      "text/plain": [
       "False"
      ]
     },
     "execution_count": 4,
     "metadata": {},
     "output_type": "execute_result"
    }
   ],
   "source": [
    "nltk.download('indian')"
   ]
  },
  {
   "cell_type": "code",
   "execution_count": 2,
   "metadata": {},
   "outputs": [],
   "source": [
    "from nltk.tokenize import word_tokenize     #for making tokens"
   ]
  },
  {
   "cell_type": "code",
   "execution_count": 3,
   "metadata": {},
   "outputs": [],
   "source": [
    "from nltk.corpus import indian              #for importing indian languages corpus"
   ]
  },
  {
   "cell_type": "code",
   "execution_count": 4,
   "metadata": {},
   "outputs": [],
   "source": [
    "from nltk.tag import tnt                    #for training text data"
   ]
  },
  {
   "cell_type": "code",
   "execution_count": 20,
   "metadata": {},
   "outputs": [],
   "source": [
    "f = open(\"random.txt\",\"r\")"
   ]
  },
  {
   "cell_type": "code",
   "execution_count": 21,
   "metadata": {},
   "outputs": [],
   "source": [
    "contents = f.read()"
   ]
  },
  {
   "cell_type": "code",
   "execution_count": 22,
   "metadata": {},
   "outputs": [],
   "source": [
    "#English text\n",
    "text = word_tokenize(contents)"
   ]
  },
  {
   "cell_type": "code",
   "execution_count": 23,
   "metadata": {},
   "outputs": [
    {
     "name": "stdout",
     "output_type": "stream",
     "text": [
      "[('Augmented', 'VBN'), ('reality', 'NN'), ('brings', 'VBZ'), ('components', 'NNS'), ('of', 'IN'), ('the', 'DT'), ('digital', 'JJ'), ('world', 'NN'), ('into', 'IN'), ('a', 'DT'), ('person', 'NN'), (\"'s\", 'POS'), ('perception', 'NN'), ('of', 'IN'), ('the', 'DT'), ('real', 'JJ'), ('world', 'NN'), ('.', '.'), ('Mcommerce', 'NNP'), ('is', 'VBZ'), ('constantly', 'RB'), ('changing', 'VBG'), ('and', 'CC'), ('those', 'DT'), ('wanting', 'VBG'), ('to', 'TO'), ('get', 'VB'), ('ahead', 'RB'), ('in', 'IN'), ('the', 'DT'), ('market', 'NN'), ('need', 'NN'), ('to', 'TO'), ('have', 'VB'), ('their', 'PRP$'), ('finger', 'NN'), ('on', 'IN'), ('the', 'DT'), ('pulse', 'NN'), ('.', '.'), ('More', 'JJR'), ('than', 'IN'), ('half', 'JJ'), ('number', 'NN'), ('of', 'IN'), ('shoppers', 'NNS'), ('abandon', 'VBP'), ('their', 'PRP$'), ('carts', 'NNS'), ('before', 'IN'), ('completing', 'VBG'), ('a', 'DT'), ('purchase', 'NN'), ('or', 'CC'), ('return', 'VB'), ('a', 'DT'), ('particular', 'JJ'), ('product', 'NN'), ('saying', 'VBG'), ('that', 'IN'), ('it', 'PRP'), ('was', 'VBD'), ('not', 'RB'), ('as', 'IN'), ('expected', 'VBN'), ('.', '.'), ('This', 'DT'), ('indicates', 'VBZ'), ('that', 'IN'), ('retailers', 'NNS'), ('need', 'VBP'), ('to', 'TO'), ('do', 'VB'), ('a', 'DT'), ('lot', 'NN'), ('more', 'JJR'), ('to', 'TO'), ('convince', 'VB'), ('customers', 'NNS'), ('to', 'TO'), ('follow', 'VB'), ('through', 'IN'), ('with', 'IN'), ('their', 'PRP$'), ('choice', 'NN'), ('and', 'CC'), ('purchase', 'NN'), ('items', 'NNS'), ('online', 'VBP'), ('.', '.'), ('Augmented', 'VBN'), ('reality', 'NN'), ('has', 'VBZ'), ('the', 'DT'), ('potential', 'JJ'), ('to', 'TO'), ('reshape', 'VB'), ('the', 'DT'), ('world', 'NN'), ('of', 'IN'), ('retail', 'JJ'), ('.', '.'), ('The', 'DT'), ('Augmented', 'NNP'), ('Reality', 'NNP'), ('Application', 'NNP'), ('for', 'IN'), ('Home', 'NNP'), ('Shopping', 'NNP'), ('will', 'MD'), ('help', 'VB'), ('users', 'NNS'), ('to', 'TO'), ('get', 'VB'), ('a', 'DT'), ('better', 'JJR'), ('view', 'NN'), ('of', 'IN'), ('the', 'DT'), ('product', 'NN'), ('by', 'IN'), ('providing', 'VBG'), ('itâ€™s', 'JJ'), ('virtual', 'JJ'), ('representation', 'NN'), ('.', '.'), ('It', 'PRP'), ('gives', 'VBZ'), ('the', 'DT'), ('user', 'NN'), ('a', 'DT'), ('mocked-up', 'JJ'), ('version', 'NN'), ('of', 'IN'), ('how', 'WRB'), ('their', 'PRP$'), ('home', 'NN'), ('could', 'MD'), ('look', 'VB'), ('when', 'WRB'), ('fitted', 'VBN'), ('out', 'RP'), ('with', 'IN'), ('various', 'JJ'), ('items', 'NNS'), ('or', 'CC'), ('products', 'NNS'), ('.', '.'), ('The', 'DT'), ('major', 'JJ'), ('problems', 'NNS'), ('that', 'WDT'), ('Mcommerce', 'NNP'), ('sites', 'VBZ'), ('face', 'NN'), ('is', 'VBZ'), ('userâ€™s', 'JJ'), ('feedback', 'NN'), ('that', 'IN'), ('the', 'DT'), ('product', 'NN'), ('was', 'VBD'), ('not', 'RB'), ('as', 'IN'), ('expected', 'VBN'), ('.', '.'), ('The', 'DT'), ('entire', 'JJ'), ('scene', 'NN'), ('that', 'WDT'), ('users', 'NNS'), ('see', 'VBP'), ('is', 'VBZ'), ('a', 'DT'), ('virtually', 'RB'), ('generated', 'JJ'), ('version', 'NN'), ('of', 'IN'), ('a', 'DT'), ('home', 'NN'), (',', ','), ('and', 'CC'), ('the', 'DT'), ('immersive', 'JJ'), ('experience', 'NN'), ('allows', 'VBZ'), ('them', 'PRP'), ('to', 'TO'), ('become', 'VB'), ('spatially', 'RB'), ('aware', 'JJ'), ('of', 'IN'), ('how', 'WRB'), ('various', 'JJ'), ('products', 'NNS'), ('would', 'MD'), ('appear', 'VB'), ('.', '.'), ('The', 'DT'), ('current', 'JJ'), ('market', 'NN'), ('works', 'VBZ'), ('on', 'IN'), ('Marker-based', 'JJ'), ('Tracking', 'NNP'), ('which', 'WDT'), ('hampers', 'VBZ'), ('the', 'DT'), ('true', 'JJ'), ('value', 'NN'), ('of', 'IN'), ('Augmented', 'NNP'), ('Reality', 'NNP'), ('.', '.'), ('The', 'DT'), ('proposed', 'JJ'), ('methodology', 'NN'), ('provides', 'VBZ'), ('an', 'DT'), ('idea', 'NN'), ('of', 'IN'), ('using', 'VBG'), ('Markerless', 'NNP'), ('Tracking', 'NNP'), ('which', 'WDT'), ('is', 'VBZ'), ('more', 'RBR'), ('efficient', 'JJ'), ('and', 'CC'), ('requires', 'VBZ'), ('less', 'JJR'), ('effort', 'NN'), ('from', 'IN'), ('userâ€™s', 'JJ'), ('side', 'NN'), ('as', 'IN'), ('compared', 'VBN'), ('to', 'TO'), ('Marker-based', 'JJ'), ('Tracking', 'NNP'), ('.', '.')]\n"
     ]
    }
   ],
   "source": [
    "#English POS tagger\n",
    "tagged = nltk.pos_tag(text)\n",
    "print(tagged)"
   ]
  },
  {
   "cell_type": "code",
   "execution_count": 7,
   "metadata": {},
   "outputs": [],
   "source": [
    "#Hindi text\n",
    "hindi_text = \"इराक के विदेश मंत्री ने अमरीका के उस प्रस्ताव का मजाक उड़ाया है , जिसमें अमरीका ने संयुक्त राष्ट्र के प्रतिबंधों को इराकी नागरिकों के लिए कम हानिकारक बनाने के लिए कहा है ।\""
   ]
  },
  {
   "cell_type": "code",
   "execution_count": 8,
   "metadata": {},
   "outputs": [],
   "source": [
    "train_data = indian.tagged_sents('hindi.pos')"
   ]
  },
  {
   "cell_type": "code",
   "execution_count": 9,
   "metadata": {},
   "outputs": [],
   "source": [
    "tnt_pos_tagger = tnt.TnT()"
   ]
  },
  {
   "cell_type": "code",
   "execution_count": 10,
   "metadata": {},
   "outputs": [],
   "source": [
    "#Hindi POS tagger\n",
    "tnt_pos_tagger.train(train_data)"
   ]
  },
  {
   "cell_type": "code",
   "execution_count": 11,
   "metadata": {},
   "outputs": [],
   "source": [
    "tagged_words = (tnt_pos_tagger.tag(nltk.word_tokenize(hindi_text)))"
   ]
  },
  {
   "cell_type": "code",
   "execution_count": 12,
   "metadata": {},
   "outputs": [
    {
     "name": "stdout",
     "output_type": "stream",
     "text": [
      "[('इराक', 'NNP'), ('के', 'PREP'), ('विदेश', 'NNC'), ('मंत्री', 'NN'), ('ने', 'PREP'), ('अमरीका', 'NNP'), ('के', 'PREP'), ('उस', 'PRP'), ('प्रस्ताव', 'NN'), ('का', 'PREP'), ('मजाक', 'NVB'), ('उड़ाया', 'VFM'), ('है', 'VAUX'), (',', 'PUNC'), ('जिसमें', 'PRP'), ('अमरीका', 'NNP'), ('ने', 'PREP'), ('संयुक्त', 'NNC'), ('राष्ट्र', 'NN'), ('के', 'PREP'), ('प्रतिबंधों', 'NN'), ('को', 'PREP'), ('इराकी', 'JJ'), ('नागरिकों', 'NN'), ('के', 'PREP'), ('लिए', 'PREP'), ('कम', 'INTF'), ('हानिकारक', 'JJ'), ('बनाने', 'VNN'), ('के', 'PREP'), ('लिए', 'PREP'), ('कहा', 'VFM'), ('है', 'VAUX'), ('।', 'PUNC')]\n"
     ]
    }
   ],
   "source": [
    "print(tagged_words)"
   ]
  },
  {
   "cell_type": "code",
   "execution_count": 13,
   "metadata": {},
   "outputs": [],
   "source": [
    "#Marathi text\n",
    "marathi_text = \"माझा भाऊ एका आठवड्यात जेवढ्या वेळ बागेत काम करतो, तेवढ्या वेळ मी एका दिवसात करतो.\""
   ]
  },
  {
   "cell_type": "code",
   "execution_count": 14,
   "metadata": {},
   "outputs": [],
   "source": [
    "train_data = indian.tagged_sents('marathi.pos')[:300]"
   ]
  },
  {
   "cell_type": "code",
   "execution_count": 15,
   "metadata": {},
   "outputs": [],
   "source": [
    "tnt_pos_tagger = tnt.TnT()"
   ]
  },
  {
   "cell_type": "code",
   "execution_count": 16,
   "metadata": {},
   "outputs": [],
   "source": [
    "tnt_pos_tagger.train(train_data)"
   ]
  },
  {
   "cell_type": "code",
   "execution_count": 17,
   "metadata": {},
   "outputs": [],
   "source": [
    "tagged_words = (tnt_pos_tagger.tag(nltk.word_tokenize(marathi_text)))"
   ]
  },
  {
   "cell_type": "code",
   "execution_count": 18,
   "metadata": {},
   "outputs": [
    {
     "name": "stdout",
     "output_type": "stream",
     "text": [
      "[('माझा', 'Unk'), ('भाऊ', 'Unk'), ('एका', 'QC'), ('आठवड्यात', 'Unk'), ('जेवढ्या', 'Unk'), ('वेळ', 'NN'), ('बागेत', 'Unk'), ('काम', 'NN'), ('करतो', 'Unk'), (',', 'SYM'), ('तेवढ्या', 'Unk'), ('वेळ', 'NN'), ('मी', 'PRP'), ('एका', 'QC'), ('दिवसात', 'Unk'), ('करतो', 'Unk'), ('.', 'SYM')]\n"
     ]
    }
   ],
   "source": [
    "print(tagged_words)"
   ]
  },
  {
   "cell_type": "code",
   "execution_count": null,
   "metadata": {},
   "outputs": [],
   "source": []
  }
 ],
 "metadata": {
  "kernelspec": {
   "display_name": "Python 3",
   "language": "python",
   "name": "python3"
  },
  "language_info": {
   "codemirror_mode": {
    "name": "ipython",
    "version": 3
   },
   "file_extension": ".py",
   "mimetype": "text/x-python",
   "name": "python",
   "nbconvert_exporter": "python",
   "pygments_lexer": "ipython3",
   "version": "3.7.1"
  }
 },
 "nbformat": 4,
 "nbformat_minor": 2
}
